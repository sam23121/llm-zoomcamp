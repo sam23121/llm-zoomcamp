{
 "cells": [
  {
   "cell_type": "code",
   "execution_count": 2,
   "id": "506fab2a-a50c-42bd-a106-c83a9d2828ea",
   "metadata": {},
   "outputs": [
    {
     "name": "stderr",
     "output_type": "stream",
     "text": [
      "--2024-06-13 13:53:24--  https://raw.githubusercontent.com/alexeygrigorev/minsearch/main/minsearch.py\n",
      "Resolving raw.githubusercontent.com (raw.githubusercontent.com)... 185.199.111.133, 185.199.110.133, 185.199.108.133, ...\n",
      "Connecting to raw.githubusercontent.com (raw.githubusercontent.com)|185.199.111.133|:443... connected.\n",
      "HTTP request sent, awaiting response... 200 OK\n",
      "Length: 3832 (3.7K) [text/plain]\n",
      "Saving to: 'minsearch.py'\n",
      "\n",
      "     0K ...                                                   100%  579K=0.006s\n",
      "\n",
      "2024-06-13 13:53:24 (579 KB/s) - 'minsearch.py' saved [3832/3832]\n",
      "\n"
     ]
    }
   ],
   "source": [
    "!rm -f minsearch.py\n",
    "!wget https://raw.githubusercontent.com/alexeygrigorev/minsearch/main/minsearch.py"
   ]
  },
  {
   "cell_type": "code",
   "execution_count": 1,
   "id": "3ac947de-effd-4b61-8792-a6d7a133f347",
   "metadata": {},
   "outputs": [
    {
     "data": {
      "text/plain": [
       "<minsearch.Index at 0x7f3a98fc3d60>"
      ]
     },
     "execution_count": 1,
     "metadata": {},
     "output_type": "execute_result"
    }
   ],
   "source": [
    "import requests \n",
    "import minsearch\n",
    "\n",
    "docs_url = 'https://github.com/DataTalksClub/llm-zoomcamp/blob/main/01-intro/documents.json?raw=1'\n",
    "docs_response = requests.get(docs_url)\n",
    "documents_raw = docs_response.json()\n",
    "\n",
    "documents = []\n",
    "\n",
    "for course in documents_raw:\n",
    "    course_name = course['course']\n",
    "\n",
    "    for doc in course['documents']:\n",
    "        doc['course'] = course_name\n",
    "        documents.append(doc)\n",
    "\n",
    "index = minsearch.Index(\n",
    "    text_fields=[\"question\", \"text\", \"section\"],\n",
    "    keyword_fields=[\"course\"]\n",
    ")\n",
    "\n",
    "index.fit(documents)"
   ]
  },
  {
   "cell_type": "code",
   "execution_count": 2,
   "id": "8f087272-b44d-4738-9ea2-175ec63a058b",
   "metadata": {},
   "outputs": [],
   "source": [
    "def search(query):\n",
    "    boost = {'question': 3.0, 'section': 0.5}\n",
    "\n",
    "    results = index.search(\n",
    "        query=query,\n",
    "        filter_dict={'course': 'data-engineering-zoomcamp'},\n",
    "        boost_dict=boost,\n",
    "        num_results=5\n",
    "    )\n",
    "\n",
    "    return results"
   ]
  },
  {
   "cell_type": "code",
   "execution_count": 3,
   "id": "666734ea",
   "metadata": {},
   "outputs": [],
   "source": [
    "from openai import OpenAI\n",
    "\n",
    "client = OpenAI(\n",
    "    base_url='http://localhost:11434/v1/',\n",
    "    api_key='ollama',\n",
    ")"
   ]
  },
  {
   "cell_type": "code",
   "execution_count": 4,
   "id": "742ab881-499a-4675-83c4-2013ea1377b9",
   "metadata": {},
   "outputs": [],
   "source": [
    "def build_prompt(query, search_results):\n",
    "    prompt_template = \"\"\"\n",
    "You're a course teaching assistant. Answer the QUESTION based on the CONTEXT from the FAQ database.\n",
    "Use only the facts from the CONTEXT when answering the QUESTION.\n",
    "\n",
    "QUESTION: {question}\n",
    "\n",
    "CONTEXT: \n",
    "{context}\n",
    "\"\"\".strip()\n",
    "\n",
    "    context = \"\"\n",
    "    \n",
    "    for doc in search_results:\n",
    "        context = context + f\"section: {doc['section']}\\nquestion: {doc['question']}\\nanswer: {doc['text']}\\n\\n\"\n",
    "    \n",
    "    prompt = prompt_template.format(question=query, context=context).strip()\n",
    "    return prompt\n",
    "\n",
    "def llm(prompt):\n",
    "    response = client.chat.completions.create(\n",
    "        model='phi3',\n",
    "        messages=[{\"role\": \"user\", \"content\": prompt}]\n",
    "    )\n",
    "    \n",
    "    return response.choices[0].message.content"
   ]
  },
  {
   "cell_type": "code",
   "execution_count": 5,
   "id": "fe8bff3e-b672-42be-866b-f2d9bb217106",
   "metadata": {},
   "outputs": [],
   "source": [
    "def rag(query):\n",
    "    search_results = search(query)\n",
    "    prompt = build_prompt(query, search_results)\n",
    "    answer = llm(prompt)\n",
    "    return answer"
   ]
  },
  {
   "cell_type": "code",
   "execution_count": 6,
   "id": "9ee527a3-3331-4f4e-b6c8-f659ffc113f5",
   "metadata": {},
   "outputs": [
    {
     "data": {
      "text/plain": [
       "\" This is a test.\\n\\n\\nAs requested, I've written the sentence as instructed without including any additional information or context not present in the original instruction provided to me. The simplicity of writing aligns with delivering concise content directly following the given command for clarity and straightforwardness.\""
      ]
     },
     "execution_count": 6,
     "metadata": {},
     "output_type": "execute_result"
    }
   ],
   "source": [
    "llm('write that this is a test')"
   ]
  },
  {
   "cell_type": "code",
   "execution_count": 7,
   "id": "21aa255e-c971-44ca-9826-a721df3ad063",
   "metadata": {},
   "outputs": [
    {
     "name": "stdout",
     "output_type": "stream",
     "text": [
      " This is a test.\n",
      "\n",
      "\n",
      "As requested, I've written the sentence as instructed without including any additional information or context not present in the original instruction provided to me. The simplicity of writing aligns with delivering concise content directly following the given command for clarity and straightforwardness.\n"
     ]
    }
   ],
   "source": [
    "print(_)"
   ]
  },
  {
   "cell_type": "code",
   "execution_count": 8,
   "id": "988ece59-951a-4b32-ba3f-cb8efb66a9bb",
   "metadata": {},
   "outputs": [
    {
     "data": {
      "text/plain": [
       "\" Yes, you can enroll in or join a course if it is open for registration. However, specific steps may vary depending on whether we're talking about online courses available through platforms like Coursera and edX or local/university-affiliated programs where such services are offered directly to the public without additional fees outside of tuition charges in many cases. Here’s a general guide that you can follow:\\n\\n1. Identify your course interest by visiting legitimate educational websites like Coursera, edX, Udemy, or direct university programs if applicable. Look for courses with good ratings and positive reviews to ensure quality education. If the course is at a University directly offering it through their portal without extra cost except tuition fees where they might be asking you to pay annual dues instead of per-course charges (e.g., HarvardX).\\n2. Visit your chosen educational platform's website and locate courses related to your field or interest area for instance, a course in 'Machine Learning with Python'. You can find this by using search engines like Google if the exact name is not visible on their homepage but be sure that it belongs to an accredited source.\\n3. Clicking on any of those links usually leads you directly into another page wherein they provide more information about course contents, instructors and duration etc., so look through them all carefully before proceeding further as some courses may not exactly match your interest or needs despite seemingly relevant titles at first glance (e.g.'Machine Learning for beginners').\\n4. Most platforms require a sign up process to verify identity while others might have enrollment options like waiting lists, free trial periods or direct purchases of the course credits with payments done via credit/debit cards and other online payment systems such as PayPal etc., click on 'Join Now' button (or similar) usually placed at top right corner for most cases.\\n5. Fill in personal details like your full name, email id or username chosen previously while signing up accurately so that correspondence related to course confirmations and notifications can happen seamlessly without issues later during learning process itself due possibly less confusion regarding who is taking what class/course etc., make sure all fields are filled correctly for a smooth experience!\\n6. Pay attention carefully before clicking 'Submit' after filling up required personal information since incorrect entry here might result in delayed processing times or even course unavailability if too many people have already joined it (e.g.; full waitlists). In case of financial constraints consider checking out free alternatives offered by reputable platforms instead although these may sometimes come without official certificates but they're great options nonetheless as long you find relevant material and knowledge enhancement opportunities therein!\\n7. Once submitted successfully (or after selecting to enrol later during course timeline), await confirmation email(s) sent by your chosen educational platform about successful registration along with further instructions or any additional documents if required like ID proof for some university courses etc., keep track of deadlines too especially regarding certificate submissions at end-of-course periods (e.g.; 6 months after course completion).\\n8. After joining/registering successfully, begin taking lessons through video lectures and supplemental materials available online unless otherwise instructed by the platform itself e.g., scheduled live webinars which sometimes also involve interactive discussions between learners or even direct interactions with an expert tutor via chats during these sessions too!\\n9.. Take detailed notes as you watch/learn through all course content provided since this will help improve retention of concepts and techniques taught within any given subject area whether academic-related courses like Biology 101 basics etc., or even practical skills development topics such automotive repair workshops. This can also aid tremendously during examinations (if applicable).\\n10.. Engage actively by participating in relevant forums within these online educational platforms where learners get an opportunity to ask questions, share insights and collaborate with peers from diverse backgrounds who may have similar interests but different perspectives which help broaden one's knowledge horizon overall. Plus , some universities provide direct mentorship programs too via their learning management system for personalized guidance etc!\\n11.. As a final step, assess your performance periodically by completing practice tests/exercises provided within course syllabus which helps gauge understanding level vis-à-vis required knowledge scope along with keeping tabs on progress towards overall goal or desired skill acquisition too. Make sure to submit any necessary assignments before deadlines if assigned one such as quizzes, essays etc., during specific timelines in accordance therewith without fail!\\n12.. Lastly but not least , once course completion successful enough alongside fulfilling all given requirements e.g.; assignment submissions with satisfactory marks or attaining necessary skill proficiency level (if applicable) request officially certified transcript(s) directly from respective universities via email contact details provided after registration process completed successfully already! This serves as a testament to one’s learning journey while opening up more opportunities for future employers/students seeking proof-based credentials in respect of their specific academic or professional endeavors.\""
      ]
     },
     "execution_count": 8,
     "metadata": {},
     "output_type": "execute_result"
    }
   ],
   "source": [
    "llm('Can I join the course')"
   ]
  },
  {
   "cell_type": "code",
   "execution_count": 9,
   "id": "6489f13f",
   "metadata": {},
   "outputs": [
    {
     "data": {
      "text/plain": [
       "' As per your question, based on our FAQs here are some pointers related to joining and contributing to the course but there is no information regarding enrolling after the start date in this particular context: \\n\\n1) In order to join a live event (like an office hour or lecture), you must register before it starts. The registration link will be provided closer to your question day on January 15th, starting at 5pm sharp GMT/UTC+0800(Asian Standard Time). You can follow course updates and announcements in the Telegram channel for this information.\\n2) If you miss a live event or want access to additional materials after it finishes (like homeworks), all resources will be kept available afterwards, so that one could learn at their own pace even after class ends. One is advised not to delay submitting final projects until the very last minute. \\n3) To contribute back into course development: star and share this repository with friends if useful; create a PR for any perceived text or structure improvements in our GitHub repo (link will be provided).'"
      ]
     },
     "execution_count": 9,
     "metadata": {},
     "output_type": "execute_result"
    }
   ],
   "source": [
    "rag(\"I just discovered the course. Can I still join it?\")"
   ]
  },
  {
   "cell_type": "code",
   "execution_count": null,
   "id": "d83c2dd5",
   "metadata": {},
   "outputs": [],
   "source": []
  }
 ],
 "metadata": {
  "kernelspec": {
   "display_name": "Python 3 (ipykernel)",
   "language": "python",
   "name": "python3"
  },
  "language_info": {
   "codemirror_mode": {
    "name": "ipython",
    "version": 3
   },
   "file_extension": ".py",
   "mimetype": "text/x-python",
   "name": "python",
   "nbconvert_exporter": "python",
   "pygments_lexer": "ipython3",
   "version": "3.10.14"
  }
 },
 "nbformat": 4,
 "nbformat_minor": 5
}
